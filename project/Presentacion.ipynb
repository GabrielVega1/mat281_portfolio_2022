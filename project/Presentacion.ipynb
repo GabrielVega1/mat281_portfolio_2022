{
  "nbformat": 4,
  "nbformat_minor": 0,
  "metadata": {
    "colab": {
      "provenance": []
    },
    "kernelspec": {
      "name": "python3",
      "display_name": "Python 3"
    },
    "language_info": {
      "name": "python"
    }
  },
  "cells": [
    {
      "cell_type": "markdown",
      "source": [
        "**Proyecto**"
      ],
      "metadata": {
        "id": "1PEp6up9-pos"
      }
    },
    {
      "cell_type": "markdown",
      "source": [
        "### 1. Analisis Exploratorio"
      ],
      "metadata": {
        "id": "3zTn7mdUERZ1"
      }
    },
    {
      "cell_type": "code",
      "source": [
        "import pandas as pd\n",
        "import numpy as np\n",
        "import seaborn as sns\n",
        "import matplotlib.pyplot as plt\n",
        "\n",
        "from sklearn.model_selection import train_test_split\n",
        "from sklearn.preprocessing import StandardScaler\n",
        "from sklearn.preprocessing import MinMaxScaler\n",
        "\n",
        "from sklearn.model_selection import GridSearchCV\n",
        "\n",
        "from sklearn.neighbors import NearestNeighbors\n",
        "from sklearn.ensemble import RandomTreesEmbedding\n",
        "#from sklearn.neural_network import BernoulliRBM"
      ],
      "metadata": {
        "id": "RsriMi4OFKu9"
      },
      "execution_count": 66,
      "outputs": []
    },
    {
      "cell_type": "code",
      "source": [
        "#Read data\n",
        "df0 = pd.read_csv(\"books.csv\",error_bad_lines=False)\n",
        "df0.head()"
      ],
      "metadata": {
        "id": "1zge7LVcHHxE"
      },
      "execution_count": null,
      "outputs": []
    },
    {
      "cell_type": "code",
      "source": [
        "df0.describe()"
      ],
      "metadata": {
        "id": "yeSgDPRVL3ib"
      },
      "execution_count": null,
      "outputs": []
    },
    {
      "cell_type": "code",
      "source": [
        "#Eliminar espacios de los nombres de las columnas\n",
        "df0.columns = df0.columns.str.strip()"
      ],
      "metadata": {
        "id": "aFGxyTOIIRyp"
      },
      "execution_count": 74,
      "outputs": []
    },
    {
      "cell_type": "code",
      "source": [
        "#Eliminar audio libros segun nuestros parametros\n",
        "df = df0.loc[df0['num_pages']>=5]\n",
        "df = df[~df['publisher'].str.contains(\"Audio\",case=False)]\n",
        "df = df.reset_index()"
      ],
      "metadata": {
        "id": "alXtmiqrI9VR"
      },
      "execution_count": 87,
      "outputs": []
    },
    {
      "cell_type": "code",
      "source": [
        "#Agregar columna año (de publicacion)\n",
        "fechas_buenas = []\n",
        "for i in range(df.shape[0]):\n",
        "  fecha = df[\"publication_date\"][i].split(\"/\")\n",
        "  fechas_buenas.append(fecha[2])\n",
        "df[\"año\"] = fechas_buenas"
      ],
      "metadata": {
        "id": "d4exSsnlKBtS"
      },
      "execution_count": 102,
      "outputs": []
    },
    {
      "cell_type": "code",
      "source": [
        "#Ver Idiomas\n",
        "np.unique(df[\"language_code\"])"
      ],
      "metadata": {
        "id": "2m4wMLEyHQr-"
      },
      "execution_count": null,
      "outputs": []
    },
    {
      "cell_type": "code",
      "source": [
        "#Unificar ingles\n",
        "df.loc[df[\"language_code\"]==\"en-CA\",\"language_code\"] = \"eng\"\n",
        "df.loc[df[\"language_code\"]==\"en-GB\",\"language_code\"] = \"eng\"\n",
        "df.loc[df[\"language_code\"]==\"en-US\",\"language_code\"] = \"eng\"\n",
        "np.unique(df[\"language_code\"])"
      ],
      "metadata": {
        "id": "va3g1cu_HRN_"
      },
      "execution_count": null,
      "outputs": []
    },
    {
      "cell_type": "code",
      "source": [
        "df.head()"
      ],
      "metadata": {
        "id": "42G7JsjPNKRK"
      },
      "execution_count": null,
      "outputs": []
    },
    {
      "cell_type": "code",
      "source": [
        "df.describe()"
      ],
      "metadata": {
        "id": "gah1A9tmL0xx"
      },
      "execution_count": null,
      "outputs": []
    },
    {
      "cell_type": "code",
      "source": [
        "#Grafico libros por idioma\n",
        "sns.set_context('paper')\n",
        "plt.figure(figsize=(15,10))\n",
        "ax = df.groupby('language_code')['title'].count().plot.bar()\n",
        "plt.title('Language Code')\n",
        "plt.xticks(fontsize = 15)\n",
        "for p in ax.patches:\n",
        "    ax.annotate(str(p.get_height()), (p.get_x()-0.3, p.get_height()+100))"
      ],
      "metadata": {
        "id": "pOnOe1L0LYD7"
      },
      "execution_count": null,
      "outputs": []
    },
    {
      "cell_type": "code",
      "source": [
        "#Grafico de numero de paginas vs nota promedio\n",
        "plt.figure(figsize=(15,10))\n",
        "sns.set_context('paper')\n",
        "ax = sns.jointplot(x=\"average_rating\", y=\"num_pages\", data = df, color = 'crimson')\n",
        "ax.set_axis_labels(\"Average Rating\", \"Number of Pages\")"
      ],
      "metadata": {
        "id": "z0vk3rh6MDT-"
      },
      "execution_count": null,
      "outputs": []
    },
    {
      "cell_type": "code",
      "source": [
        "# Funcion para identificar el primer autor\n",
        "def primer_autor(text):\n",
        "    arr = text.split('/')\n",
        "    return arr[0]"
      ],
      "metadata": {
        "id": "TtW2sz_yMRsb"
      },
      "execution_count": 95,
      "outputs": []
    },
    {
      "cell_type": "code",
      "source": [
        "#Agregar columna primer autor\n",
        "df['primer_autor'] = df['authors'].apply(lambda x : primer_autor(x))\n",
        "total_rating = df.drop_duplicates(subset=['primer_autor', 'title'], keep='first')\n",
        "total_rating = total_rating.groupby(by=['primer_autor']).agg({'average_rating': ['sum']})\n",
        "total_rating.columns = ['total_rating']\n",
        "total_rating.reset_index(inplace=True)\n",
        "total_rating = total_rating.sort_values(by=['total_rating'], ascending=False)\n",
        "total_rating"
      ],
      "metadata": {
        "id": "Un_U18v2NsP1"
      },
      "execution_count": null,
      "outputs": []
    },
    {
      "cell_type": "code",
      "source": [
        "#Se agrupa por autor en orden descendente segun libros escritos\n",
        "total_book = df.groupby(by=['primer_autor']).agg({'title': ['nunique']})\n",
        "total_book.columns = ['total_book']\n",
        "total_book.reset_index(inplace=True)\n",
        "total_book = total_book.sort_values(by=['total_book'], ascending=False)\n",
        "total_book"
      ],
      "metadata": {
        "id": "pHr5q0xuN7Wd"
      },
      "execution_count": null,
      "outputs": []
    },
    {
      "cell_type": "code",
      "source": [
        "#Parametro adjusted_rating mas \"equilibrado\" considerando cantidad de libros y sus puntuaciones promedio\n",
        "avg_author = pd.merge(total_book, total_rating, on='primer_autor', how='outer')\n",
        "avg_author['average_rating'] = round(avg_author['total_rating'] / avg_author['total_book'], 2)\n",
        "avg_author = avg_author[avg_author['total_book'] >0]\n",
        "avg_author['adjusted_rating'] = avg_author['average_rating']*(avg_author['total_book']+20*avg_author['total_book'].mean())/20*avg_author['total_book'].mean()\n",
        "avg_author = avg_author.sort_values(by=['adjusted_rating'], ascending=False)\n",
        "avg_author.head(10)"
      ],
      "metadata": {
        "id": "_mVylIcxOKit"
      },
      "execution_count": null,
      "outputs": []
    },
    {
      "cell_type": "code",
      "source": [
        "#Grafico mejores autores segund adjusted_rating\n",
        "sns.barplot(\n",
        "    y = \"primer_autor\",\n",
        "    x = \"adjusted_rating\",\n",
        "    data = avg_author.head(20)\n",
        ")"
      ],
      "metadata": {
        "id": "GciOHHWEOn0K"
      },
      "execution_count": null,
      "outputs": []
    },
    {
      "cell_type": "code",
      "source": [
        "#DataFrame con autores por año\n",
        "aux = df.groupby(\"año\")\n",
        "df_años = aux[\"authors\"].count().reset_index()\n",
        "df_años"
      ],
      "metadata": {
        "id": "C9xOyf1NQMhT"
      },
      "execution_count": null,
      "outputs": []
    },
    {
      "cell_type": "code",
      "source": [
        "#Grafico autores por año\n",
        "fig = plt.figure( figsize= (30,60))\n",
        "sns.barplot(\n",
        "    y = \"año\",\n",
        "    x = \"authors\",\n",
        "    data = df_años\n",
        ")\n",
        "plt.xticks(fontsize=30)\n",
        "plt.yticks(fontsize=30)\n",
        "plt.xlabel(\"cantidad\",fontsize = 42)\n",
        "plt.ylabel(\"año\",fontsize = 42)\n",
        "plt.show()"
      ],
      "metadata": {
        "id": "QanJErflQ_1M"
      },
      "execution_count": null,
      "outputs": []
    },
    {
      "cell_type": "markdown",
      "source": [
        "### 2.1 Preprocesamiento"
      ],
      "metadata": {
        "id": "Ki1JbAnWGqjT"
      }
    },
    {
      "cell_type": "code",
      "source": [
        "#Tomamos los datos numericos y los estandarizamos\n",
        "df_numerico = df[[\"average_rating\",\"año\",\"num_pages\",\"text_reviews_count\",\"ratings_count\"]]\n",
        "scaler = StandardScaler()\n",
        "df_numerico = pd.DataFrame(scaler.fit_transform(df_numerico),columns = [\"average_rating\",\"año\",\"num_pages\",\"text_reviews_count\",\"ratings_count\"])\n",
        "df_numerico.head()"
      ],
      "metadata": {
        "id": "mdytZBLZRl0o"
      },
      "execution_count": null,
      "outputs": []
    },
    {
      "cell_type": "code",
      "source": [
        "#Get_Dummies para la columna idioma\n",
        "df_cat = df[[\"language_code\"]]\n",
        "df_cat = pd.get_dummies(df_cat)\n",
        "df_cat"
      ],
      "metadata": {
        "id": "mLYHBS12R767"
      },
      "execution_count": null,
      "outputs": []
    },
    {
      "cell_type": "code",
      "source": [
        "#Unimos df con datos numericos estandarizados con las columnas (ahora numericas) del idioma\n",
        "df_procesado = pd.concat([df_numerico,df_cat],axis=1)\n",
        "df_procesado"
      ],
      "metadata": {
        "id": "ruIyOMMoSMzx"
      },
      "execution_count": null,
      "outputs": []
    },
    {
      "cell_type": "markdown",
      "source": [
        "### 2.2 NearestNeighbors "
      ],
      "metadata": {
        "id": "gYsmcRfnGwas"
      }
    },
    {
      "cell_type": "code",
      "source": [
        "#Creamos modelo vecinos mas cercanos (5)\n",
        "model = NearestNeighbors(n_neighbors = 6)\n",
        "fit_model = model.fit(df_procesado)\n",
        "distance, indices = fit_model.kneighbors(df_procesado)\n",
        "indices"
      ],
      "metadata": {
        "id": "3Geol77ZScHQ"
      },
      "execution_count": null,
      "outputs": []
    },
    {
      "cell_type": "code",
      "source": [
        "#Recomendador\n",
        "id = 0\n",
        "print(df[\"title\"][id])\n",
        "print(\"Se recomienda leer: \")\n",
        "for e in indices[id]:\n",
        "  if(e != id):\n",
        "    print(df[\"title\"][e])"
      ],
      "metadata": {
        "colab": {
          "base_uri": "https://localhost:8080/"
        },
        "id": "JwW4RvKWSub_",
        "outputId": "15af10a9-ae1f-4406-d01a-f14a0a4aac99"
      },
      "execution_count": 125,
      "outputs": [
        {
          "output_type": "stream",
          "name": "stdout",
          "text": [
            "Harry Potter and the Half-Blood Prince (Harry Potter  #6)\n",
            "Se recomienda leer: \n",
            "Harry Potter and the Order of the Phoenix (Harry Potter  #5)\n",
            "Animal Farm\n",
            "Lord of the Flies\n",
            "Harry Potter and the Chamber of Secrets (Harry Potter  #2)\n",
            "Harry Potter and the Prisoner of Azkaban (Harry Potter  #3)\n"
          ]
        }
      ]
    },
    {
      "cell_type": "markdown",
      "source": [
        "## **4**. **CODIGO**"
      ],
      "metadata": {
        "id": "ZDUIoBY9D_Uq"
      }
    },
    {
      "cell_type": "code",
      "execution_count": 29,
      "metadata": {
        "id": "XBfcxPne-ngh"
      },
      "outputs": [],
      "source": [
        "import pandas as pd\n",
        "import numpy as np\n",
        "import seaborn as sns\n",
        "import matplotlib.pyplot as plt\n",
        "\n",
        "from sklearn.model_selection import train_test_split\n",
        "from sklearn.preprocessing import StandardScaler\n",
        "from sklearn.preprocessing import MinMaxScaler\n",
        "\n",
        "from sklearn.model_selection import GridSearchCV\n",
        "\n",
        "from sklearn.neighbors import NearestNeighbors\n",
        "from sklearn.ensemble import RandomTreesEmbedding\n",
        "#from sklearn.neural_network import BernoulliRBM\n",
        "#."
      ]
    },
    {
      "cell_type": "code",
      "source": [
        "# read data\n",
        "\n",
        "df = pd.read_csv(\"books.csv\",error_bad_lines=False)\n",
        "df.head()\n",
        "#."
      ],
      "metadata": {
        "id": "o-9aV5WS_hMx"
      },
      "execution_count": null,
      "outputs": []
    },
    {
      "cell_type": "code",
      "source": [
        "# Ver los idiomas de los libros\n",
        "\n",
        "np.unique(df[\"language_code\"])\n",
        "#."
      ],
      "metadata": {
        "id": "XO-dUQ6w__Q4"
      },
      "execution_count": null,
      "outputs": []
    },
    {
      "cell_type": "code",
      "source": [
        "# Compactificar idiomas\n",
        "\n",
        "df.loc[df[\"language_code\"]==\"en-CA\",\"language_code\"] = \"eng\"\n",
        "df.loc[df[\"language_code\"]==\"en-GB\",\"language_code\"] = \"eng\"\n",
        "df.loc[df[\"language_code\"]==\"en-US\",\"language_code\"] = \"eng\"\n",
        "np.unique(df[\"language_code\"])\n",
        "#."
      ],
      "metadata": {
        "id": "PM4JPsLywAPq"
      },
      "execution_count": null,
      "outputs": []
    },
    {
      "cell_type": "code",
      "source": [
        "# Grafico de cant de libros vs idioma\n",
        "\n",
        "sns.set_context('paper')\n",
        "plt.figure(figsize=(15,10))\n",
        "ax = df.groupby('language_code')['title'].count().plot.bar()\n",
        "plt.title('Language Code')\n",
        "plt.xticks(fontsize = 15)\n",
        "for p in ax.patches:\n",
        "    ax.annotate(str(p.get_height()), (p.get_x()-0.3, p.get_height()+100))\n",
        "#."
      ],
      "metadata": {
        "id": "2Bap-w2-xOdb"
      },
      "execution_count": null,
      "outputs": []
    },
    {
      "cell_type": "code",
      "source": [
        "df.describe()"
      ],
      "metadata": {
        "id": "--zht9PRzFAI"
      },
      "execution_count": null,
      "outputs": []
    },
    {
      "cell_type": "code",
      "source": [
        "# Eliminar espacios de los nombres de las columnas\n",
        "df.columns = df.columns.str.strip()\n",
        "#."
      ],
      "metadata": {
        "id": "lnKK4scTzV6O"
      },
      "execution_count": 34,
      "outputs": []
    },
    {
      "cell_type": "code",
      "source": [
        "# Crear dataframe con libros not a book\n",
        "\n",
        "df_not_a_book = df.loc[df['authors']==\"NOT A BOOK\"]\n",
        "#."
      ],
      "metadata": {
        "id": "Jy-5AuQBJvOz"
      },
      "execution_count": 35,
      "outputs": []
    },
    {
      "cell_type": "code",
      "source": [
        "# Ver las editoriales de df_audios\n",
        "\n",
        "a = np.unique(df_not_a_book[\"publisher\"])\n",
        "a.shape\n",
        "#."
      ],
      "metadata": {
        "id": "K3zSRG--2fM6"
      },
      "execution_count": null,
      "outputs": []
    },
    {
      "cell_type": "code",
      "source": [
        "# Crear dataframe con libros con numero de paginas menor a 5\n",
        "# consejo: visualizar cuantos tienen menos de 5 pag\n",
        "\n",
        "df_libro_chiquito = df.loc[df['num_pages']<5]\n",
        "np.unique(df_libro_chiquito[\"publisher\"])\n",
        "#."
      ],
      "metadata": {
        "id": "LFiZPiUs3SNx"
      },
      "execution_count": null,
      "outputs": []
    },
    {
      "cell_type": "code",
      "source": [
        "# Crear dataframe con los que son libros segun nuestros parametros\n",
        "df_libros = df.loc[df['num_pages']>=5]\n",
        "df_libros = df_libros[~df_libros['publisher'].str.contains(\"Audio\",case=False)]\n",
        "#df = df.loc[\"audio\" in df['publisher']]\n",
        "df_libros = df_libros.reset_index()\n",
        "#."
      ],
      "metadata": {
        "id": "pm_f4c666b21"
      },
      "execution_count": 38,
      "outputs": []
    },
    {
      "cell_type": "code",
      "source": [
        "# Grafico de numero de paginas vs nota promedio\n",
        "\n",
        "plt.figure(figsize=(15,10))\n",
        "sns.set_context('paper')\n",
        "ax = sns.jointplot(x=\"average_rating\", y=\"num_pages\", data = df, color = 'crimson')\n",
        "ax.set_axis_labels(\"Average Rating\", \"Number of Pages\")\n",
        "#."
      ],
      "metadata": {
        "id": "9uvRLHDj9_C9"
      },
      "execution_count": null,
      "outputs": []
    },
    {
      "cell_type": "code",
      "source": [
        "# Se define una funcion para identificar el primer autor\n",
        "\n",
        "def primer_autor(text):\n",
        "    arr = text.split('/')\n",
        "    return arr[0]\n",
        "# Se crea una nueva columna con el primer autor\n",
        "df['primer_autor'] = df['authors'].apply(lambda x : primer_autor(x))\n",
        "\n",
        "total_rating = df.drop_duplicates(subset=['primer_autor', 'title'], keep='first')\n",
        "total_rating = total_rating.groupby(by=['primer_autor']).agg({'average_rating': ['sum']})\n",
        "total_rating.columns = ['total_rating']\n",
        "total_rating.reset_index(inplace=True)\n",
        "total_rating = total_rating.sort_values(by=['total_rating'], ascending=False)\n",
        "total_rating\n",
        "#."
      ],
      "metadata": {
        "id": "Hks_yQAJABhv"
      },
      "execution_count": null,
      "outputs": []
    },
    {
      "cell_type": "code",
      "source": [
        "total_book = df.groupby(by=['primer_autor']).agg({'title': ['nunique']})\n",
        "total_book.columns = ['total_book']\n",
        "total_book.reset_index(inplace=True)\n",
        "total_book = total_book.sort_values(by=['total_book'], ascending=False)\n",
        "total_book\n",
        "#."
      ],
      "metadata": {
        "id": "Jqdi8BYmEaIL"
      },
      "execution_count": null,
      "outputs": []
    },
    {
      "cell_type": "code",
      "source": [
        "avg_author = pd.merge(total_book, total_rating, on='primer_autor', how='outer')\n",
        "avg_author['average_rating'] = round(avg_author['total_rating'] / avg_author['total_book'], 2)\n",
        "avg_author = avg_author[avg_author['total_book'] >0]\n",
        "avg_author['adjusted_rating'] = avg_author['average_rating']*(avg_author['total_book']+20*avg_author['total_book'].mean())/20*avg_author['total_book'].mean()\n",
        "avg_author = avg_author.sort_values(by=['adjusted_rating'], ascending=False)\n",
        "avg_author.head(10)\n",
        "#."
      ],
      "metadata": {
        "id": "lMl21Y-hEigE"
      },
      "execution_count": null,
      "outputs": []
    },
    {
      "cell_type": "code",
      "source": [
        "sns.barplot(\n",
        "    y = \"primer_autor\",\n",
        "    x = \"adjusted_rating\",\n",
        "    data = avg_author.head(20)\n",
        ")\n",
        "#."
      ],
      "metadata": {
        "id": "Qrv79bSuKmLh"
      },
      "execution_count": null,
      "outputs": []
    },
    {
      "cell_type": "code",
      "source": [
        "fechas_buenas = []\n",
        "for i in range(df.shape[0]):\n",
        "  fecha = df[\"publication_date\"][i].split(\"/\")\n",
        "  if len(fecha[0])==1:\n",
        "    fecha[0] = \"0\"+fecha[0]\n",
        "  if len(fecha[1])==1:\n",
        "    fecha[1] = \"0\"+fecha[1]\n",
        "  fechas_buenas.append(fecha[2])\n",
        "df[\"año\"] = fechas_buenas\n",
        "#."
      ],
      "metadata": {
        "id": "waaby4EVTTp6"
      },
      "execution_count": null,
      "outputs": []
    },
    {
      "cell_type": "code",
      "source": [
        "df.head()\n"
      ],
      "metadata": {
        "id": "94iB2m5zPjtC"
      },
      "execution_count": null,
      "outputs": []
    },
    {
      "cell_type": "code",
      "source": [
        "np.unique(df[\"año\"])"
      ],
      "metadata": {
        "id": "O1DXwkwfU44K"
      },
      "execution_count": null,
      "outputs": []
    },
    {
      "cell_type": "code",
      "source": [
        "grupo = df.groupby(\"año\")\n",
        "anios = grupo[\"authors\"].count().reset_index()\n",
        "anios\n",
        "#."
      ],
      "metadata": {
        "id": "mCf8dqhSXaos"
      },
      "execution_count": null,
      "outputs": []
    },
    {
      "cell_type": "code",
      "source": [
        "fig = plt.figure( figsize= (30,60))\n",
        "sns.barplot(\n",
        "    y = \"año\",\n",
        "    x = \"authors\",\n",
        "    data = anios\n",
        ")\n",
        "plt.xticks(fontsize=30)\n",
        "plt.yticks(fontsize=30)\n",
        "plt.xlabel(\"año\",fontsize = 42)\n",
        "plt.ylabel(\"cantidad\",fontsize = 42)\n",
        "plt.show()\n",
        "#."
      ],
      "metadata": {
        "id": "MRF3WUYMXpx_"
      },
      "execution_count": null,
      "outputs": []
    },
    {
      "cell_type": "markdown",
      "source": [
        "HASTA AQUÍ TAMO BIEN\n",
        "\n",
        "- Ahora, propongo usar el kmeans para crear un modelo de clasificación piola y despues vemos que hacemos con los otros modelos de clasificación y que tanto nos sirve cada uno ( "
      ],
      "metadata": {
        "id": "UlXm89yyOqaT"
      }
    },
    {
      "cell_type": "code",
      "source": [
        "df_numerico = df[[\"average_rating\",\"año\",\"num_pages\",\"text_reviews_count\",\"ratings_count\"]]\n",
        "scaler = StandardScaler() #estandarizamos los datos\n",
        "df_numerico = pd.DataFrame(scaler.fit_transform(df_numerico),columns = [\"average_rating\",\"año\",\"num_pages\",\"text_reviews_count\",\"ratings_count\"])\n",
        "df_numerico.head()\n",
        "#."
      ],
      "metadata": {
        "id": "aMtM4Iu0O06V"
      },
      "execution_count": null,
      "outputs": []
    },
    {
      "cell_type": "code",
      "source": [
        "df_cat = df[[\"language_code\"]]\n",
        "df_cat = pd.get_dummies(df_cat)\n",
        "df_cat\n",
        "#."
      ],
      "metadata": {
        "id": "2de9F05A7mNZ"
      },
      "execution_count": null,
      "outputs": []
    },
    {
      "cell_type": "code",
      "source": [
        "df_procesado = pd.concat([df_numerico,df_cat],axis=1)\n",
        "df_procesado\n",
        "#."
      ],
      "metadata": {
        "id": "sjDo4t_t8xU0"
      },
      "execution_count": null,
      "outputs": []
    },
    {
      "cell_type": "code",
      "source": [
        "model = NearestNeighbors(n_neighbors = 6)\n",
        "fit_model = model.fit(df_procesado)\n",
        "distance, indices = fit_model.kneighbors(df_procesado)\n",
        "indices\n",
        "#."
      ],
      "metadata": {
        "colab": {
          "base_uri": "https://localhost:8080/"
        },
        "id": "WCXHPs0x-RHc",
        "outputId": "4110af33-09bd-4499-8fc9-04c2b5eefabf"
      },
      "execution_count": 118,
      "outputs": [
        {
          "output_type": "execute_result",
          "data": {
            "text/plain": [
              "array([[    0,     1,  2081,  2083,  4339,     3],\n",
              "       [    1,     0,  4339,  2081,     3,  2083],\n",
              "       [    2,  9764,  6763,  3048,  3053,  8733],\n",
              "       ...,\n",
              "       [10891,  3084,  2308,  4976,  2706,  1824],\n",
              "       [10892,  6612,  3728,  5848,  6726,  7358],\n",
              "       [10893,   350,  3426,  4416, 10846,  1427]])"
            ]
          },
          "metadata": {},
          "execution_count": 118
        }
      ]
    },
    {
      "cell_type": "code",
      "source": [
        "indices.shape"
      ],
      "metadata": {
        "colab": {
          "base_uri": "https://localhost:8080/"
        },
        "id": "wmU93SHT_3Yg",
        "outputId": "834e01b8-509a-4e78-f1c9-8bfaf458c025"
      },
      "execution_count": null,
      "outputs": [
        {
          "output_type": "execute_result",
          "data": {
            "text/plain": [
              "(11123, 6)"
            ]
          },
          "metadata": {},
          "execution_count": 32
        }
      ]
    },
    {
      "cell_type": "code",
      "source": [
        "df[\"title\"][10893]"
      ],
      "metadata": {
        "colab": {
          "base_uri": "https://localhost:8080/",
          "height": 35
        },
        "id": "AdLcJU8TAQ_x",
        "outputId": "a6d9f3f6-345f-426b-e6fd-54f3f9a5094b"
      },
      "execution_count": 119,
      "outputs": [
        {
          "output_type": "execute_result",
          "data": {
            "text/plain": [
              "'Las aventuras de Tom Sawyer'"
            ],
            "application/vnd.google.colaboratory.intrinsic+json": {
              "type": "string"
            }
          },
          "metadata": {},
          "execution_count": 119
        }
      ]
    },
    {
      "cell_type": "code",
      "source": [],
      "metadata": {
        "id": "tYUZ8tXCHe1x"
      },
      "execution_count": null,
      "outputs": []
    }
  ]
}