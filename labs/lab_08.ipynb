{
  "cells": [
    {
      "cell_type": "markdown",
      "metadata": {
        "id": "NBdLyByVGuC_"
      },
      "source": [
        "<a href=\"https://colab.research.google.com/github/fralfaro/MAT281_2022/blob/main/labs/lab_08/lab_08.ipynb\" target=\"_parent\"><img src=\"https://colab.research.google.com/assets/colab-badge.svg\" alt=\"Open In Colab\"/></a>\n",
        "\n",
        "\n",
        "# MAT281 - Laboratorio N°08\n",
        "\n"
      ]
    },
    {
      "cell_type": "markdown",
      "metadata": {
        "id": "75tYHJlDGuDE"
      },
      "source": [
        "<a id='p1'></a>\n",
        "## I.- Problema 01\n",
        "\n",
        "\n",
        "<img src=\"https://freedesignfile.com/upload/2013/06/Car-logos-1.jpg\" width=\"360\" height=\"360\" align=\"center\"/>\n",
        "\n",
        "\n",
        "El conjunto de datos se denomina `vehiculos_procesado_con_grupos.csv`, el cual contine algunas de las características más importante de un vehículo.\n",
        "\n",
        "En este ejercicio se tiene como objetivo, es poder clasificar los distintos vehículos basados en las cracterísticas que se presentan a continuación. La dificultad de este ejercicio radíca en que ahora tenemos variables numéricas y variables categóricas.\n",
        "\n",
        "Lo primero será cargar el conjunto de datos:"
      ]
    },
    {
      "cell_type": "code",
      "execution_count": 1,
      "metadata": {
        "id": "xotBt3p-GuDF"
      },
      "outputs": [],
      "source": [
        "import os\n",
        "import numpy as np\n",
        "import pandas as pd\n",
        "import matplotlib.pyplot as plt\n",
        "import seaborn as sns\n",
        "\n",
        "from sklearn.preprocessing import MinMaxScaler\n",
        "from sklearn.dummy import DummyClassifier\n",
        "from sklearn.cluster import KMeans\n",
        "\n",
        "\n",
        "%matplotlib inline\n",
        "sns.set_palette(\"deep\", desat=.6)\n",
        "sns.set(rc={'figure.figsize':(11.7,8.27)})"
      ]
    },
    {
      "cell_type": "code",
      "execution_count": 2,
      "metadata": {
        "id": "rr7bhSRdGuDH",
        "outputId": "b504ade9-c603-47de-8c96-90553c86510b",
        "colab": {
          "base_uri": "https://localhost:8080/",
          "height": 357
        }
      },
      "outputs": [
        {
          "output_type": "execute_result",
          "data": {
            "text/plain": [
              "   year  desplazamiento  cilindros         co2            clase_tipo  \\\n",
              "0  1984             2.5        4.0  522.764706  Vehículos Especiales   \n",
              "1  1984             4.2        6.0  683.615385  Vehículos Especiales   \n",
              "2  1985             2.5        4.0  555.437500  Vehículos Especiales   \n",
              "3  1985             4.2        6.0  683.615385  Vehículos Especiales   \n",
              "4  1987             3.8        6.0  555.437500       Coches Medianos   \n",
              "\n",
              "  traccion_tipo transmision_tipo combustible_tipo tamano_motor_tipo  \\\n",
              "0           dos       Automatica           Normal           pequeño   \n",
              "1           dos       Automatica           Normal            grande   \n",
              "2           dos       Automatica           Normal           pequeño   \n",
              "3           dos       Automatica           Normal            grande   \n",
              "4           dos       Automatica          Premium            grande   \n",
              "\n",
              "  consumo_tipo  co2_tipo  consumo_litros_milla  \n",
              "0         alto      alto              0.222671  \n",
              "1     muy alto  muy alto              0.291185  \n",
              "2         alto      alto              0.236588  \n",
              "3     muy alto  muy alto              0.291185  \n",
              "4         alto      alto              0.236588  "
            ],
            "text/html": [
              "\n",
              "  <div id=\"df-4be5e6f4-10fc-43a7-8020-f03155b272b3\">\n",
              "    <div class=\"colab-df-container\">\n",
              "      <div>\n",
              "<style scoped>\n",
              "    .dataframe tbody tr th:only-of-type {\n",
              "        vertical-align: middle;\n",
              "    }\n",
              "\n",
              "    .dataframe tbody tr th {\n",
              "        vertical-align: top;\n",
              "    }\n",
              "\n",
              "    .dataframe thead th {\n",
              "        text-align: right;\n",
              "    }\n",
              "</style>\n",
              "<table border=\"1\" class=\"dataframe\">\n",
              "  <thead>\n",
              "    <tr style=\"text-align: right;\">\n",
              "      <th></th>\n",
              "      <th>year</th>\n",
              "      <th>desplazamiento</th>\n",
              "      <th>cilindros</th>\n",
              "      <th>co2</th>\n",
              "      <th>clase_tipo</th>\n",
              "      <th>traccion_tipo</th>\n",
              "      <th>transmision_tipo</th>\n",
              "      <th>combustible_tipo</th>\n",
              "      <th>tamano_motor_tipo</th>\n",
              "      <th>consumo_tipo</th>\n",
              "      <th>co2_tipo</th>\n",
              "      <th>consumo_litros_milla</th>\n",
              "    </tr>\n",
              "  </thead>\n",
              "  <tbody>\n",
              "    <tr>\n",
              "      <th>0</th>\n",
              "      <td>1984</td>\n",
              "      <td>2.5</td>\n",
              "      <td>4.0</td>\n",
              "      <td>522.764706</td>\n",
              "      <td>Vehículos Especiales</td>\n",
              "      <td>dos</td>\n",
              "      <td>Automatica</td>\n",
              "      <td>Normal</td>\n",
              "      <td>pequeño</td>\n",
              "      <td>alto</td>\n",
              "      <td>alto</td>\n",
              "      <td>0.222671</td>\n",
              "    </tr>\n",
              "    <tr>\n",
              "      <th>1</th>\n",
              "      <td>1984</td>\n",
              "      <td>4.2</td>\n",
              "      <td>6.0</td>\n",
              "      <td>683.615385</td>\n",
              "      <td>Vehículos Especiales</td>\n",
              "      <td>dos</td>\n",
              "      <td>Automatica</td>\n",
              "      <td>Normal</td>\n",
              "      <td>grande</td>\n",
              "      <td>muy alto</td>\n",
              "      <td>muy alto</td>\n",
              "      <td>0.291185</td>\n",
              "    </tr>\n",
              "    <tr>\n",
              "      <th>2</th>\n",
              "      <td>1985</td>\n",
              "      <td>2.5</td>\n",
              "      <td>4.0</td>\n",
              "      <td>555.437500</td>\n",
              "      <td>Vehículos Especiales</td>\n",
              "      <td>dos</td>\n",
              "      <td>Automatica</td>\n",
              "      <td>Normal</td>\n",
              "      <td>pequeño</td>\n",
              "      <td>alto</td>\n",
              "      <td>alto</td>\n",
              "      <td>0.236588</td>\n",
              "    </tr>\n",
              "    <tr>\n",
              "      <th>3</th>\n",
              "      <td>1985</td>\n",
              "      <td>4.2</td>\n",
              "      <td>6.0</td>\n",
              "      <td>683.615385</td>\n",
              "      <td>Vehículos Especiales</td>\n",
              "      <td>dos</td>\n",
              "      <td>Automatica</td>\n",
              "      <td>Normal</td>\n",
              "      <td>grande</td>\n",
              "      <td>muy alto</td>\n",
              "      <td>muy alto</td>\n",
              "      <td>0.291185</td>\n",
              "    </tr>\n",
              "    <tr>\n",
              "      <th>4</th>\n",
              "      <td>1987</td>\n",
              "      <td>3.8</td>\n",
              "      <td>6.0</td>\n",
              "      <td>555.437500</td>\n",
              "      <td>Coches Medianos</td>\n",
              "      <td>dos</td>\n",
              "      <td>Automatica</td>\n",
              "      <td>Premium</td>\n",
              "      <td>grande</td>\n",
              "      <td>alto</td>\n",
              "      <td>alto</td>\n",
              "      <td>0.236588</td>\n",
              "    </tr>\n",
              "  </tbody>\n",
              "</table>\n",
              "</div>\n",
              "      <button class=\"colab-df-convert\" onclick=\"convertToInteractive('df-4be5e6f4-10fc-43a7-8020-f03155b272b3')\"\n",
              "              title=\"Convert this dataframe to an interactive table.\"\n",
              "              style=\"display:none;\">\n",
              "        \n",
              "  <svg xmlns=\"http://www.w3.org/2000/svg\" height=\"24px\"viewBox=\"0 0 24 24\"\n",
              "       width=\"24px\">\n",
              "    <path d=\"M0 0h24v24H0V0z\" fill=\"none\"/>\n",
              "    <path d=\"M18.56 5.44l.94 2.06.94-2.06 2.06-.94-2.06-.94-.94-2.06-.94 2.06-2.06.94zm-11 1L8.5 8.5l.94-2.06 2.06-.94-2.06-.94L8.5 2.5l-.94 2.06-2.06.94zm10 10l.94 2.06.94-2.06 2.06-.94-2.06-.94-.94-2.06-.94 2.06-2.06.94z\"/><path d=\"M17.41 7.96l-1.37-1.37c-.4-.4-.92-.59-1.43-.59-.52 0-1.04.2-1.43.59L10.3 9.45l-7.72 7.72c-.78.78-.78 2.05 0 2.83L4 21.41c.39.39.9.59 1.41.59.51 0 1.02-.2 1.41-.59l7.78-7.78 2.81-2.81c.8-.78.8-2.07 0-2.86zM5.41 20L4 18.59l7.72-7.72 1.47 1.35L5.41 20z\"/>\n",
              "  </svg>\n",
              "      </button>\n",
              "      \n",
              "  <style>\n",
              "    .colab-df-container {\n",
              "      display:flex;\n",
              "      flex-wrap:wrap;\n",
              "      gap: 12px;\n",
              "    }\n",
              "\n",
              "    .colab-df-convert {\n",
              "      background-color: #E8F0FE;\n",
              "      border: none;\n",
              "      border-radius: 50%;\n",
              "      cursor: pointer;\n",
              "      display: none;\n",
              "      fill: #1967D2;\n",
              "      height: 32px;\n",
              "      padding: 0 0 0 0;\n",
              "      width: 32px;\n",
              "    }\n",
              "\n",
              "    .colab-df-convert:hover {\n",
              "      background-color: #E2EBFA;\n",
              "      box-shadow: 0px 1px 2px rgba(60, 64, 67, 0.3), 0px 1px 3px 1px rgba(60, 64, 67, 0.15);\n",
              "      fill: #174EA6;\n",
              "    }\n",
              "\n",
              "    [theme=dark] .colab-df-convert {\n",
              "      background-color: #3B4455;\n",
              "      fill: #D2E3FC;\n",
              "    }\n",
              "\n",
              "    [theme=dark] .colab-df-convert:hover {\n",
              "      background-color: #434B5C;\n",
              "      box-shadow: 0px 1px 3px 1px rgba(0, 0, 0, 0.15);\n",
              "      filter: drop-shadow(0px 1px 2px rgba(0, 0, 0, 0.3));\n",
              "      fill: #FFFFFF;\n",
              "    }\n",
              "  </style>\n",
              "\n",
              "      <script>\n",
              "        const buttonEl =\n",
              "          document.querySelector('#df-4be5e6f4-10fc-43a7-8020-f03155b272b3 button.colab-df-convert');\n",
              "        buttonEl.style.display =\n",
              "          google.colab.kernel.accessAllowed ? 'block' : 'none';\n",
              "\n",
              "        async function convertToInteractive(key) {\n",
              "          const element = document.querySelector('#df-4be5e6f4-10fc-43a7-8020-f03155b272b3');\n",
              "          const dataTable =\n",
              "            await google.colab.kernel.invokeFunction('convertToInteractive',\n",
              "                                                     [key], {});\n",
              "          if (!dataTable) return;\n",
              "\n",
              "          const docLinkHtml = 'Like what you see? Visit the ' +\n",
              "            '<a target=\"_blank\" href=https://colab.research.google.com/notebooks/data_table.ipynb>data table notebook</a>'\n",
              "            + ' to learn more about interactive tables.';\n",
              "          element.innerHTML = '';\n",
              "          dataTable['output_type'] = 'display_data';\n",
              "          await google.colab.output.renderOutput(dataTable, element);\n",
              "          const docLink = document.createElement('div');\n",
              "          docLink.innerHTML = docLinkHtml;\n",
              "          element.appendChild(docLink);\n",
              "        }\n",
              "      </script>\n",
              "    </div>\n",
              "  </div>\n",
              "  "
            ]
          },
          "metadata": {},
          "execution_count": 2
        }
      ],
      "source": [
        "# cargar datos\n",
        "df = pd.read_csv(\"https://raw.githubusercontent.com/fralfaro/MAT281_2022/main/labs/lab_08/data/vehiculos_procesado_con_grupos.csv\", sep=\",\")\\\n",
        "       .drop(\n",
        "            [\"fabricante\", \n",
        "             \"modelo\",\n",
        "             \"transmision\", \n",
        "             \"traccion\", \n",
        "             \"clase\", \n",
        "             \"combustible\",\n",
        "             \"consumo\"], \n",
        "    \n",
        "          axis=1)\n",
        "\n",
        "df.head()"
      ]
    },
    {
      "cell_type": "markdown",
      "metadata": {
        "id": "haEEu8K4GuDI"
      },
      "source": [
        "En este caso, no solo se tienen datos numéricos, sino que también categóricos. Además, tenemos problemas de datos **vacíos (Nan)**. Así que para resolver este problema, seguiremos varios pasos:"
      ]
    },
    {
      "cell_type": "markdown",
      "metadata": {
        "id": "Q5QEGuR0GuDJ"
      },
      "source": [
        "### 1.- Normalizar datos\n",
        "\n",
        "1. Cree un conjunto de datos con las variables numéricas, además, para cada dato vacía, rellene con el promedio asociado a esa columna. Finalmente, normalize los datos mediante el procesamiento **MinMaxScaler** de **sklearn**.\n",
        "\n",
        "2.-  Cree un conjunto de datos con las variables categóricas , además, transforme de variables categoricas a numericas ocupando el comando **get_dummies** de pandas ([referencia](https://pandas.pydata.org/pandas-docs/stable/reference/api/pandas.get_dummies.html)). Explique a grande rasgo como se realiza la codificación de variables numéricas a categóricas.\n",
        "\n",
        "3.- Junte ambos dataset en uno, llamado **df_procesado**. \n"
      ]
    },
    {
      "cell_type": "code",
      "source": [
        "df_num = df.select_dtypes(include='number')\n",
        "df_num = df_num.fillna(df_num.mean())\n",
        "MM = MinMaxScaler()\n",
        "df_num_MM = MM.fit_transform(df_num)\n",
        "df_num_MM = pd.DataFrame(df_num_MM, columns=df_num.columns)\n",
        "\n",
        "df_cat = df.select_dtypes(include=['object','category'])\n",
        "df_cat_gd = pd.get_dummies(df_cat)\n",
        "\n",
        "df_procesado = pd.concat([df_num_MM, df_cat_gd], axis=1)"
      ],
      "metadata": {
        "id": "srnMQROxGw_H"
      },
      "execution_count": 100,
      "outputs": []
    },
    {
      "cell_type": "markdown",
      "metadata": {
        "id": "Dvb-GLNPGuDK"
      },
      "source": [
        "### 2.- Realizar ajuste mediante kmeans\n",
        "\n",
        "Una vez depurado el conjunto de datos, es momento de aplicar el algoritmo de **kmeans**.\n",
        "\n",
        "1. Ajuste el modelo de **kmeans** sobre el conjunto de datos, con un total de **8 clusters**.\n",
        "2. Asociar a cada individuo el correspondiente cluster y calcular valor de los centroides de cada cluster.\n",
        "3. Realizar un resumen de las principales cualidades de cada cluster. Para  esto debe calcular (para cluster) las siguientes medidas de resumen:\n",
        "    * Valor promedio de las variables numérica\n",
        "    * Moda para las variables numericas\n",
        "    \n",
        "    "
      ]
    },
    {
      "cell_type": "code",
      "source": [
        "#ASUMO que la moda es para las variables categoricas y no numericas.\n",
        "KM = KMeans(n_clusters=8)\n",
        "KM.fit(df_procesado)\n",
        "Cluster = pd.DataFrame(KM.predict(df_procesado), columns=[\"Cluster\"])  \n",
        "Centroide  = KM.cluster_centers_\n",
        "#df_procesado = pd.concat([df_procesado, Cluster], axis=1)\n",
        "\n",
        "\n",
        "proms = []\n",
        "i=0\n",
        "while(i<8):\n",
        "  f = []\n",
        "  aux = df_procesado[\"Cluster\"]==i\n",
        "  aux = df_num_MM[aux]\n",
        "  f = [aux.mean()]\n",
        "  proms.append(f)\n",
        "  i += 1\n",
        "\n",
        "print(\"Promedios\")\n",
        "i=0\n",
        "for e in proms:\n",
        "  print(\"Cluster: \", i)\n",
        "  print(e)\n",
        "  i+=1\n"
      ],
      "metadata": {
        "id": "qQwKe2D6OHYq",
        "outputId": "28cb6765-9a01-4ccf-b4e0-a3a52813e4dd",
        "colab": {
          "base_uri": "https://localhost:8080/"
        }
      },
      "execution_count": 126,
      "outputs": [
        {
          "output_type": "stream",
          "name": "stdout",
          "text": [
            "Promedios\n",
            "Cluster:  0\n",
            "[year                    0.695702\n",
            "desplazamiento          0.179404\n",
            "cilindros               0.150728\n",
            "co2                     0.240178\n",
            "consumo_litros_milla    0.156814\n",
            "dtype: float64]\n",
            "Cluster:  1\n",
            "[year                    0.591198\n",
            "desplazamiento          0.624251\n",
            "cilindros               0.484308\n",
            "co2                     0.504638\n",
            "consumo_litros_milla    0.442795\n",
            "dtype: float64]\n",
            "Cluster:  2\n",
            "[year                    0.524300\n",
            "desplazamiento          0.250770\n",
            "cilindros               0.195525\n",
            "co2                     0.304420\n",
            "consumo_litros_milla    0.226575\n",
            "dtype: float64]\n",
            "Cluster:  3\n",
            "[year                    0.409092\n",
            "desplazamiento          0.333846\n",
            "cilindros               0.258067\n",
            "co2                     0.354202\n",
            "consumo_litros_milla    0.281278\n",
            "dtype: float64]\n",
            "Cluster:  4\n",
            "[year                    0.476486\n",
            "desplazamiento          0.450899\n",
            "cilindros               0.327092\n",
            "co2                     0.409930\n",
            "consumo_litros_milla    0.343238\n",
            "dtype: float64]\n",
            "Cluster:  5\n",
            "[year                    0.588065\n",
            "desplazamiento          0.362121\n",
            "cilindros               0.299467\n",
            "co2                     0.354068\n",
            "consumo_litros_milla    0.282213\n",
            "dtype: float64]\n",
            "Cluster:  6\n",
            "[year                    0.313071\n",
            "desplazamiento          0.548444\n",
            "cilindros               0.383841\n",
            "co2                     0.507836\n",
            "consumo_litros_milla    0.453114\n",
            "dtype: float64]\n",
            "Cluster:  7\n",
            "[year                    0.438404\n",
            "desplazamiento          0.159576\n",
            "cilindros               0.141184\n",
            "co2                     0.242287\n",
            "consumo_litros_milla    0.156504\n",
            "dtype: float64]\n"
          ]
        }
      ]
    },
    {
      "cell_type": "markdown",
      "metadata": {
        "id": "AQDsB2lNGuDK"
      },
      "source": [
        "### 3.- Elegir Número de cluster\n",
        "\n",
        "Estime mediante la **regla del codo**, el número de cluster apropiados para el caso.\n",
        "Para efectos prácticos, eliga la siguiente secuencia como número de clusters a comparar:\n",
        "\n",
        "$$[5, 10, 20, 30, 50, 75, 100, 200, 300]$$\n",
        "\n",
        "Una ve realizado el gráfico, saque sus propias conclusiones del caso.\n"
      ]
    },
    {
      "cell_type": "code",
      "source": [
        "Clusters = [5,10,20,30,50]\n",
        "Metrica = []\n",
        "\n",
        "for e in Clusters:\n",
        "  KM = KMeans(n_clusters=e)\n",
        "  KM.fit(df_procesado)\n",
        "  Metrica.append(KM.inertia_)\n",
        "\n",
        "plt.plot(Clusters, Metrica)\n",
        "plt.title(\"Regla Codo\")\n",
        "plt.xlabel(\"Clusters\")\n",
        "plt.ylabel(\"Metrica\")\n",
        "plt.show()"
      ],
      "metadata": {
        "id": "a2lZJBpyV-Yq",
        "outputId": "1757bedb-1d07-44d4-90a6-72caee1d7a54",
        "colab": {
          "base_uri": "https://localhost:8080/",
          "height": 533
        }
      },
      "execution_count": 88,
      "outputs": [
        {
          "output_type": "display_data",
          "data": {
            "text/plain": [
              "<Figure size 842.4x595.44 with 1 Axes>"
            ],
            "image/png": "[encoded data removed]"
          },
          "metadata": {}
        }
      ]
    },
    {
      "cell_type": "markdown",
      "metadata": {
        "id": "bj-7DLQHGuDL"
      },
      "source": [
        "## II.- Problema 02\n",
        "\n",
        "<img src=\"https://live.staticflickr.com/7866/47075467621_85ab810139_c.jpg\" align=\"center\"/>\n",
        "\n",
        "Para el conjunto de datos de **Iris**, se pide realizar una reducción de dimensionalidad ocupando las técnicas de PCA y TSNE (vistas en clases). \n",
        "\n",
        "El objetivo es aplicar ambos algoritmos de la siguiente manera:\n",
        "\n",
        "* Análisis detallado algoritma PCA (tablas, gráficos, etc.)\n",
        "* Análisis detallado algoritma TSNE (tablas, gráficos, etc.)\n",
        "* Comparar ambos algoritmos (conclusiones del caso)"
      ]
    },
    {
      "cell_type": "code",
      "execution_count": null,
      "metadata": {
        "id": "R41S6fl1GuDM"
      },
      "outputs": [],
      "source": [
        "import pandas as pd\n",
        "from sklearn.datasets import load_iris\n",
        "from sklearn.decomposition import PCA\n",
        "from sklearn.manifold import TSNE\n",
        "\n",
        "import matplotlib.pyplot as plt\n",
        "from matplotlib.colors import ListedColormap\n",
        "from mpl_toolkits.mplot3d import Axes3D\n",
        "import seaborn as sns"
      ]
    },
    {
      "cell_type": "code",
      "execution_count": null,
      "metadata": {
        "id": "f-LhKI5YGuDM",
        "outputId": "159d5dac-45c9-43fb-d4af-ddf5e46d5e39"
      },
      "outputs": [
        {
          "data": {
            "text/html": [
              "<div>\n",
              "<style scoped>\n",
              "    .dataframe tbody tr th:only-of-type {\n",
              "        vertical-align: middle;\n",
              "    }\n",
              "\n",
              "    .dataframe tbody tr th {\n",
              "        vertical-align: top;\n",
              "    }\n",
              "\n",
              "    .dataframe thead th {\n",
              "        text-align: right;\n",
              "    }\n",
              "</style>\n",
              "<table border=\"1\" class=\"dataframe\">\n",
              "  <thead>\n",
              "    <tr style=\"text-align: right;\">\n",
              "      <th></th>\n",
              "      <th>sepal_length</th>\n",
              "      <th>sepal_width</th>\n",
              "      <th>petal_length</th>\n",
              "      <th>petal_width</th>\n",
              "      <th>species</th>\n",
              "    </tr>\n",
              "  </thead>\n",
              "  <tbody>\n",
              "    <tr>\n",
              "      <th>0</th>\n",
              "      <td>5.1</td>\n",
              "      <td>3.5</td>\n",
              "      <td>1.4</td>\n",
              "      <td>0.2</td>\n",
              "      <td>0</td>\n",
              "    </tr>\n",
              "    <tr>\n",
              "      <th>1</th>\n",
              "      <td>4.9</td>\n",
              "      <td>3.0</td>\n",
              "      <td>1.4</td>\n",
              "      <td>0.2</td>\n",
              "      <td>0</td>\n",
              "    </tr>\n",
              "    <tr>\n",
              "      <th>2</th>\n",
              "      <td>4.7</td>\n",
              "      <td>3.2</td>\n",
              "      <td>1.3</td>\n",
              "      <td>0.2</td>\n",
              "      <td>0</td>\n",
              "    </tr>\n",
              "    <tr>\n",
              "      <th>3</th>\n",
              "      <td>4.6</td>\n",
              "      <td>3.1</td>\n",
              "      <td>1.5</td>\n",
              "      <td>0.2</td>\n",
              "      <td>0</td>\n",
              "    </tr>\n",
              "    <tr>\n",
              "      <th>4</th>\n",
              "      <td>5.0</td>\n",
              "      <td>3.6</td>\n",
              "      <td>1.4</td>\n",
              "      <td>0.2</td>\n",
              "      <td>0</td>\n",
              "    </tr>\n",
              "  </tbody>\n",
              "</table>\n",
              "</div>"
            ],
            "text/plain": [
              "   sepal_length  sepal_width  petal_length  petal_width  species\n",
              "0           5.1          3.5           1.4          0.2        0\n",
              "1           4.9          3.0           1.4          0.2        0\n",
              "2           4.7          3.2           1.3          0.2        0\n",
              "3           4.6          3.1           1.5          0.2        0\n",
              "4           5.0          3.6           1.4          0.2        0"
            ]
          },
          "execution_count": 5,
          "metadata": {},
          "output_type": "execute_result"
        }
      ],
      "source": [
        "dataset = load_iris()\n",
        "features = ['sepal_length', 'sepal_width', 'petal_length', 'petal_width']\n",
        "target = 'species'\n",
        "\n",
        "iris = pd.DataFrame(\n",
        "    dataset.data,\n",
        "    columns=features)\n",
        "\n",
        "iris[target] = dataset.target\n",
        "iris.head()"
      ]
    },
    {
      "cell_type": "code",
      "execution_count": null,
      "metadata": {
        "id": "WZw4ouRaGuDN"
      },
      "outputs": [],
      "source": [
        "# FIX ME PLEASE"
      ]
    }
  ],
  "metadata": {
    "kernelspec": {
      "display_name": "Python 3",
      "language": "python",
      "name": "python3"
    },
    "language_info": {
      "codemirror_mode": {
        "name": "ipython",
        "version": 3
      },
      "file_extension": ".py",
      "mimetype": "text/x-python",
      "name": "python",
      "nbconvert_exporter": "python",
      "pygments_lexer": "ipython3",
      "version": "3.8.10"
    },
    "colab": {
      "provenance": []
    }
  },
  "nbformat": 4,
  "nbformat_minor": 0
}